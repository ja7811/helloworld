{
  "nbformat": 4,
  "nbformat_minor": 0,
  "metadata": {
    "colab": {
      "name": "helloworld_20204761.ipynb",
      "provenance": [],
      "authorship_tag": "ABX9TyOQhRUzp0AGW317whWa6jVO",
      "include_colab_link": true
    },
    "kernelspec": {
      "name": "python3",
      "display_name": "Python 3"
    }
  },
  "cells": [
    {
      "cell_type": "markdown",
      "metadata": {
        "id": "view-in-github",
        "colab_type": "text"
      },
      "source": [
        "<a href=\"https://colab.research.google.com/github/ja7811/helloworld/blob/main/helloworld_20204761.ipynb\" target=\"_parent\"><img src=\"https://colab.research.google.com/assets/colab-badge.svg\" alt=\"Open In Colab\"/></a>"
      ]
    },
    {
      "cell_type": "code",
      "metadata": {
        "id": "ytbGKveYBfas",
        "outputId": "067684f1-b51b-4827-e86f-6f3df46fde0a",
        "colab": {
          "base_uri": "https://localhost:8080/",
          "height": 35
        }
      },
      "source": [
        "'''\n",
        "this is a comment line\n",
        "'''\n",
        "a = '''this is not a comment line'''\n",
        "greetings = 'hello'\n",
        "place = 'world'\n",
        "str = greetings + place\n",
        "print(str)"
      ],
      "execution_count": 11,
      "outputs": [
        {
          "output_type": "stream",
          "text": [
            "helloworld\n"
          ],
          "name": "stdout"
        }
      ]
    }
  ]
}